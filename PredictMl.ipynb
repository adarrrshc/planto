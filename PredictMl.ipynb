{
  "nbformat": 4,
  "nbformat_minor": 0,
  "metadata": {
    "colab": {
      "name": "CO2.ipynb",
      "version": "0.3.2",
      "provenance": [],
      "collapsed_sections": [],
      "include_colab_link": true
    },
    "kernelspec": {
      "name": "python3",
      "display_name": "Python 3"
    }
  },
  "cells": [
    {
      "cell_type": "markdown",
      "metadata": {
        "id": "view-in-github",
        "colab_type": "text"
      },
      "source": [
        "<a href=\"https://colab.research.google.com/github/AKSHAYA8219/Intro-to-Machine-Learning/blob/master/CO2.ipynb\" target=\"_parent\"><img src=\"https://colab.research.google.com/assets/colab-badge.svg\" alt=\"Open In Colab\"/></a>"
      ]
    },
    {
      "cell_type": "code",
      "metadata": {
        "id": "WvYJJf3THo3P",
        "colab_type": "code",
        "colab": {
          "base_uri": "https://localhost:8080/",
          "height": 34
        },
        "outputId": "68dacff2-8cb3-4362-8753-39253fe1dda0"
      },
      "source": [
        "!git clone https://github.com/AKSHAYA8219/ai-ml-assignments.git"
      ],
      "execution_count": 36,
      "outputs": [
        {
          "output_type": "stream",
          "text": [
            "fatal: destination path 'ai-ml-assignments' already exists and is not an empty directory.\n"
          ],
          "name": "stdout"
        }
      ]
    },
    {
      "cell_type": "code",
      "metadata": {
        "id": "Rebs7MsL_TYD",
        "colab_type": "code",
        "colab": {}
      },
      "source": [
        "#import libraries\n",
        "import numpy as np\n",
        "import matplotlib.pyplot as plt\n",
        "import sys\n",
        "sys.path.append('ai-ml-assignments')\n",
        "from utils import utils"
      ],
      "execution_count": 0,
      "outputs": []
    },
    {
      "cell_type": "code",
      "metadata": {
        "id": "YJcVvHEq_0Zm",
        "colab_type": "code",
        "colab": {}
      },
      "source": [
        "def sigmoid(z):\n",
        "    \n",
        "    # Implement the sigmoid function\n",
        "    #    z: A set of values whose sigmoid needs to be computed and stored in the variable s\n",
        "    # Return value: \n",
        "    #    s: sigmoid of values in z \n",
        "    \n",
        "    # s = 1/(1+e^(-z))\n",
        "    \n",
        "    s = 1/(1+np.exp(-z))\n",
        "    return s"
      ],
      "execution_count": 0,
      "outputs": []
    },
    {
      "cell_type": "code",
      "metadata": {
        "id": "IRC_q-4VDDh4",
        "colab_type": "code",
        "colab": {
          "base_uri": "https://localhost:8080/",
          "height": 70
        },
        "outputId": "b0bad6f0-f45d-4e66-a3a9-915b79eca52f"
      },
      "source": [
        "#testing sigmoid function\n",
        "z = np.arange(-10,11,5)\n",
        "sig = sigmoid(z)\n",
        "print(\"Input: \",z)\n",
        "print(\"Expected output: \",sig)"
      ],
      "execution_count": 39,
      "outputs": [
        {
          "output_type": "stream",
          "text": [
            "Input:  [-10  -5   0   5  10]\n",
            "Expected output:  [4.53978687e-05 6.69285092e-03 5.00000000e-01 9.93307149e-01\n",
            " 9.99954602e-01]\n"
          ],
          "name": "stdout"
        }
      ]
    },
    {
      "cell_type": "code",
      "metadata": {
        "id": "S9_fzB_qDPix",
        "colab_type": "code",
        "colab": {
          "base_uri": "https://localhost:8080/",
          "height": 268
        },
        "outputId": "1618b8ed-7315-45e4-ea5d-1a47797a339c"
      },
      "source": [
        "z = np.arange(-10., 11., 1)\n",
        "sig = sigmoid(z)\n",
        "plt.plot(z,sig)\n",
        "plt.plot(z,sig,'bo')\n",
        "plt.show()"
      ],
      "execution_count": 40,
      "outputs": [
        {
          "output_type": "display_data",
          "data": {
            "image/png": "[encoded data removed]",
            "text/plain": [
              "<Figure size 432x288 with 1 Axes>"
            ]
          },
          "metadata": {
            "tags": []
          }
        }
      ]
    },
    {
      "cell_type": "code",
      "metadata": {
        "id": "iV9SRH76DgQH",
        "colab_type": "code",
        "colab": {}
      },
      "source": [
        "def create_params(n):\n",
        "    # Create the parameters w and b and initialise them with zeros\n",
        "    \n",
        "    # Arguments:\n",
        "    #    n: number of weights\n",
        "    #\n",
        "    # Return values:\n",
        "    #    w: the weights created  \n",
        "    #    b: bias term\n",
        "    \n",
        "    # Create a numpy array w of shape (n,1) which are initialized to zeros \n",
        "    w = np.zeros(shape=(n,1))\n",
        "    # Initialise bias term b to zero\n",
        "    b = 0.0\n",
        "    \n",
        "    return w,b"
      ],
      "execution_count": 0,
      "outputs": []
    },
    {
      "cell_type": "code",
      "metadata": {
        "id": "OwdZOBzREChl",
        "colab_type": "code",
        "colab": {
          "base_uri": "https://localhost:8080/",
          "height": 70
        },
        "outputId": "8ebc97d1-6098-4be3-f243-05ff9896410b"
      },
      "source": [
        "#testing parameters\n",
        "w,b = create_params(2)\n",
        "\n",
        "print(w)\n",
        "print(b)"
      ],
      "execution_count": 7,
      "outputs": [
        {
          "output_type": "stream",
          "text": [
            "[[0.]\n",
            " [0.]]\n",
            "0.0\n"
          ],
          "name": "stdout"
        }
      ]
    },
    {
      "cell_type": "code",
      "metadata": {
        "id": "MXgiG0eWElj1",
        "colab_type": "code",
        "colab": {}
      },
      "source": [
        "#forward propagation\n",
        "def forward_propagate(X,yhat,w,b):\n",
        "    # Implement forward propagation\n",
        "    \n",
        "    # Arguments:\n",
        "    #    X    : n features of m training samples represented as an nxm matrix\n",
        "    #    yhat : the groundtruth values for the m training samples represented as an 1xm matrix\n",
        "    #    w    : the n weight parameters\n",
        "    #    b    : the bias term b\n",
        "    #\n",
        "    # Return values:\n",
        "    #    a    : the activation of all the training samples calculated according to the formula above\n",
        "    #    loss : the loss calculated according to the formula above\n",
        "    \n",
        "    \n",
        "    # Calculate the activation using sigmoid function based on the formula above. You need to store \n",
        "    # the activation for all the training elements in an appropriate matrix.\n",
        "    a = sigmoid(np.dot(w.T,X)+b)\n",
        "    \n",
        "    # Calculate the loss using the equation for L above\n",
        "    loss = -1*(np.sum(((yhat*np.log(a))+(1-yhat)*np.log(1-a)))/X.shape[1])\n",
        "    \n",
        "    return a,loss"
      ],
      "execution_count": 0,
      "outputs": []
    },
    {
      "cell_type": "code",
      "metadata": {
        "id": "aJCwvGbwEu20",
        "colab_type": "code",
        "colab": {
          "base_uri": "https://localhost:8080/",
          "height": 52
        },
        "outputId": "61c73caa-9322-471a-a62e-e372b33163b5"
      },
      "source": [
        "#testing\n",
        "w = np.array([[0], [1]])\n",
        "b = 2\n",
        "X = np.array([[1, 3, 5],[2, 4, 6]]) \n",
        "yhat = np.array([[1, 0, 1]])\n",
        "a,loss = forward_propagate(X,yhat,w,b)\n",
        "print(a)\n",
        "print(loss)"
      ],
      "execution_count": 9,
      "outputs": [
        {
          "output_type": "stream",
          "text": [
            "[[0.98201379 0.99752738 0.99966465]]\n",
            "2.006987006476161\n"
          ],
          "name": "stdout"
        }
      ]
    },
    {
      "cell_type": "code",
      "metadata": {
        "id": "cchve7IIFA5O",
        "colab_type": "code",
        "colab": {}
      },
      "source": [
        "#backward propagation\n",
        "def backward_propagate(X,yhat,a):\n",
        "    # Implement backward propagation using the equations above without using any loops\n",
        "    \n",
        "    # Arguments:\n",
        "    #    X    : n features of m training samples represented as an nxm matrix\n",
        "    #    yhat : the groundtruth values for the m training samples represented as an 1xm matrix\n",
        "    #    a    : the activation of the training samples\n",
        "    #\n",
        "    # Return values:\n",
        "    #    dw   : derivative of loss with respect to w\n",
        "    #    db   : derivative of loss with respect to b\n",
        "    \n",
        "    # Determine the number of trainining samples m from the shape of X\n",
        "    m = X.shape[1]\n",
        "    # Calculate dw = dL/dw using the equation above without using any loops\n",
        "    dw = np.dot(X,(a-yhat).T)/m\n",
        "    # Calculate db = dL/db using the equation above without using any loops\n",
        "    db = np.sum(a-yhat)/m\n",
        "    \n",
        "    #return derivative of loss with respect to w and b, i.e., dw and db\n",
        "    return dw,db"
      ],
      "execution_count": 0,
      "outputs": []
    },
    {
      "cell_type": "code",
      "metadata": {
        "id": "AcrOc_PAFK6X",
        "colab_type": "code",
        "colab": {
          "base_uri": "https://localhost:8080/",
          "height": 70
        },
        "outputId": "17f06f11-cd0a-4d67-c6b8-605e86140317"
      },
      "source": [
        "#testing\n",
        "w = np.array([[0], [1]])\n",
        "b = 2\n",
        "X = np.array([[1, 3, 5],[2, 4, 6]]) \n",
        "yhat = np.array([[1, 0, 1]])\n",
        "dw,db = backward_propagate(X,yhat,a)\n",
        "print(dw)\n",
        "print(db)"
      ],
      "execution_count": 11,
      "outputs": [
        {
          "output_type": "stream",
          "text": [
            "[[0.99097306]\n",
            " [1.317375  ]]\n",
            "0.3264019389169358\n"
          ],
          "name": "stdout"
        }
      ]
    },
    {
      "cell_type": "code",
      "metadata": {
        "id": "2Ait7uGZFhP6",
        "colab_type": "code",
        "colab": {}
      },
      "source": [
        "#fit function\n",
        "def fit(X,yhat,numiter=5000,lr=0.05,display_loss = False):\n",
        "    # Implement the fit fuction that determines optimal values for the parameters w and b using gradient descent.\n",
        "    \n",
        "    # Arguments:\n",
        "    #    X            : n features of m training samples represented as an nxm matrix\n",
        "    #    yhat         : the groundtruth values for the m training samples represented as an 1xm matrix\n",
        "    #    numiter      : number of iterations for running the gradient descent \n",
        "    #    lr           : learning rate for the gradient descent\n",
        "    #    display_loss : whether to display loss\n",
        "    #\n",
        "    # Return values:\n",
        "    #    w            : weights determined by the gradient descent\n",
        "    #    b            : bias determined by the gradient descent\n",
        "    \n",
        "    # Determine the number of features from the shape of X\n",
        "    n = X.shape[0]\n",
        "    \n",
        "    # Create the weights and bias\n",
        "    w,b = create_params(n)\n",
        "    \n",
        "    # Iterate for numiter steps\n",
        "    for i in range(numiter):\n",
        "        \n",
        "        # Calculate activation and loss using forward propagation\n",
        "        a,loss = forward_propagate(X,yhat,w,b)\n",
        "        \n",
        "        # Calculate dw and db using backward propagation\n",
        "        dw,db = backward_propagate(X,yhat,a)\n",
        "        \n",
        "        # Calculate the updated parameters by moving a small step (lr) in the opposite direction of the gradient\n",
        "        w = w - (lr*dw)\n",
        "        b = b - (lr*db)\n",
        "        \n",
        "        if display_loss and i % 100 == 0:\n",
        "            print(loss)\n",
        "            \n",
        "    # Return the parameters w and b\n",
        "    return w,b"
      ],
      "execution_count": 0,
      "outputs": []
    },
    {
      "cell_type": "code",
      "metadata": {
        "id": "FTKAXiNwFu2g",
        "colab_type": "code",
        "colab": {
          "base_uri": "https://localhost:8080/",
          "height": 158
        },
        "outputId": "bf861b8d-375a-4d83-fa7a-7c1c6a360706"
      },
      "source": [
        "w,b = fit(X,yhat,500,0.005,True)\n",
        "print(w)\n",
        "print(b)"
      ],
      "execution_count": 13,
      "outputs": [
        {
          "output_type": "stream",
          "text": [
            "0.6931471805599453\n",
            "0.6450579810362779\n",
            "0.6445228298368414\n",
            "0.6440564031501352\n",
            "0.6436175793664201\n",
            "[[0.02845113]\n",
            " [0.10866157]]\n",
            "0.08021044325121016\n"
          ],
          "name": "stdout"
        }
      ]
    },
    {
      "cell_type": "code",
      "metadata": {
        "id": "OCuM0QJcGHRf",
        "colab_type": "code",
        "colab": {}
      },
      "source": [
        "def predict(X,w,b):\n",
        "    # Implement the function to predict the output for a new input using the learned parameters.\n",
        "    \n",
        "    # Arguments:\n",
        "    #    X    : n features of m training samples represented as an nxm matrix\n",
        "    #    w    : weights determined by the training\n",
        "    #    b    : bias determined by the training\n",
        "    #\n",
        "    # Return values:\n",
        "    #    pred : prediction for each test sample\n",
        "    \n",
        "    \n",
        "    # Determine the activation for each input test sample\n",
        "    act = sigmoid(np.dot(w.T,X)+b)\n",
        "    \n",
        "    # Since we are using a binary classifer, the output has to be either a 0 or a 1, so you need\n",
        "    # to convert the activation to a 0 or a 1.\n",
        "    pred = np.where(act>0.5,1.0,0.0)\n",
        "    \n",
        "    return pred"
      ],
      "execution_count": 0,
      "outputs": []
    },
    {
      "cell_type": "code",
      "metadata": {
        "id": "4sZ9alLYGJkc",
        "colab_type": "code",
        "colab": {
          "base_uri": "https://localhost:8080/",
          "height": 34
        },
        "outputId": "0f0605c8-9cc1-4f30-9c57-72b1846f294e"
      },
      "source": [
        "#testing\n",
        "w = np.array([[0], [1]])\n",
        "b = 2\n",
        "X = np.array([[1, 3, 5],[2, 4, 6]])\n",
        "pred = predict(X,w,b)\n",
        "print(pred)"
      ],
      "execution_count": 15,
      "outputs": [
        {
          "output_type": "stream",
          "text": [
            "[[1. 1. 1.]]\n"
          ],
          "name": "stdout"
        }
      ]
    },
    {
      "cell_type": "code",
      "metadata": {
        "id": "Y89vXMUsIgGQ",
        "colab_type": "code",
        "colab": {
          "base_uri": "https://localhost:8080/",
          "height": 545
        },
        "outputId": "bcb19bcd-835e-4eb5-9119-ba6ae06f389c"
      },
      "source": [
        "X_train,yhat_train,X_test,yhat_test = utils.create_simple_dataset()"
      ],
      "execution_count": 28,
      "outputs": [
        {
          "output_type": "display_data",
          "data": {
            "image/png": "[encoded data removed]",
            "text/plain": [
              "<Figure size 432x288 with 1 Axes>"
            ]
          },
          "metadata": {
            "tags": []
          }
        },
        {
          "output_type": "display_data",
          "data": {
            "image/png": "[encoded data removed]",
            "text/plain": [
              "<Figure size 432x288 with 1 Axes>"
            ]
          },
          "metadata": {
            "tags": []
          }
        }
      ]
    },
    {
      "cell_type": "code",
      "metadata": {
        "id": "xrCnhapDpLha",
        "colab_type": "code",
        "colab": {
          "base_uri": "https://localhost:8080/",
          "height": 87
        },
        "outputId": "12cf84a2-7618-4e09-dc69-bbf557359091"
      },
      "source": [
        "print(X_train.shape)\n",
        "print(yhat_train.shape)\n",
        "print(X_test.shape)\n",
        "print(yhat_test.shape)"
      ],
      "execution_count": 29,
      "outputs": [
        {
          "output_type": "stream",
          "text": [
            "(2, 160)\n",
            "(1, 160)\n",
            "(2, 40)\n",
            "(1, 40)\n"
          ],
          "name": "stdout"
        }
      ]
    },
    {
      "cell_type": "code",
      "metadata": {
        "id": "-PCn49r8LGTI",
        "colab_type": "code",
        "colab": {}
      },
      "source": [
        "w,b = fit(X_train,yhat_train,5000,0.05)\n",
        "res = predict(X_test,w,b)"
      ],
      "execution_count": 0,
      "outputs": []
    },
    {
      "cell_type": "code",
      "metadata": {
        "id": "jYDZfKbhI_lJ",
        "colab_type": "code",
        "colab": {
          "base_uri": "https://localhost:8080/",
          "height": 34
        },
        "outputId": "f37f3db7-3353-4950-ab8e-8b71c4acc7b5"
      },
      "source": [
        "print(\"Accuracy of prediction: \" + str(np.sum(res == yhat_test)/float(res.shape[1])))"
      ],
      "execution_count": 31,
      "outputs": [
        {
          "output_type": "stream",
          "text": [
            "Accuracy of prediction: 0.675\n"
          ],
          "name": "stdout"
        }
      ]
    }
  ]
}